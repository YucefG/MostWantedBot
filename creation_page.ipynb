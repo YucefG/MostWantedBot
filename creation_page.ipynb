{
 "cells": [
  {
   "cell_type": "code",
   "execution_count": 1,
   "id": "ee855ca9",
   "metadata": {},
   "outputs": [],
   "source": [
    "user = 'YGrebici@MostWantedBot'\n",
    "password = 'rebp70qighbgk55lpoi47b8fnesf3au3'"
   ]
  },
  {
   "cell_type": "code",
   "execution_count": 2,
   "id": "58124356",
   "metadata": {},
   "outputs": [],
   "source": [
    "from pywikiapi import Site"
   ]
  },
  {
   "cell_type": "code",
   "execution_count": 3,
   "id": "4baccb04",
   "metadata": {},
   "outputs": [],
   "source": [
    "site = Site('http://wikipast.epfl.ch/wikipast/api.php') # Définition de l'adresse de l'API\n",
    "site.no_ssl = True # Désactivation du https, car non activé sur wikipast\n",
    "site.login(user, password) # Login du bot"
   ]
  },
  {
   "cell_type": "code",
   "execution_count": 4,
   "id": "d1a19007",
   "metadata": {},
   "outputs": [],
   "source": [
    "SearchSite = 'http://wikipast.epfl.ch/w/index.php?search='"
   ]
  },
  {
   "cell_type": "code",
   "execution_count": 14,
   "id": "5c42177f",
   "metadata": {},
   "outputs": [],
   "source": [
    "MostWantedTerm = 'Banane'"
   ]
  },
  {
   "cell_type": "code",
   "execution_count": 6,
   "id": "45a5fa8b",
   "metadata": {},
   "outputs": [],
   "source": [
    "URLTotal = SearchSite + SearchTerm"
   ]
  },
  {
   "cell_type": "code",
   "execution_count": 8,
   "id": "89a529ea",
   "metadata": {},
   "outputs": [
    {
     "data": {
      "text/plain": [
       "'http://wikipast.epfl.ch/w/index.php?search=Hilden'"
      ]
     },
     "execution_count": 8,
     "metadata": {},
     "output_type": "execute_result"
    }
   ],
   "source": [
    "URLTotal"
   ]
  },
  {
   "cell_type": "code",
   "execution_count": 9,
   "id": "7229595a",
   "metadata": {},
   "outputs": [],
   "source": [
    "SearchSitePart1 = 'http://wikipast.epfl.ch/w/index.php?title='"
   ]
  },
  {
   "cell_type": "code",
   "execution_count": 11,
   "id": "3071a138",
   "metadata": {},
   "outputs": [],
   "source": [
    "SearchSitePart2 = '&action=edit&redlink=1'"
   ]
  },
  {
   "cell_type": "code",
   "execution_count": 18,
   "id": "2e883cef",
   "metadata": {},
   "outputs": [
    {
     "data": {
      "text/plain": [
       "'http://wikipast.epfl.ch/w/index.php?title=Banane&action=edit&redlink=1'"
      ]
     },
     "execution_count": 18,
     "metadata": {},
     "output_type": "execute_result"
    }
   ],
   "source": [
    "URLTotalEdit = SearchSitePart1+SearchTerm+SearchSitePart2\n",
    "URLTotalEdit"
   ]
  },
  {
   "cell_type": "code",
   "execution_count": 17,
   "id": "efce23f0",
   "metadata": {},
   "outputs": [
    {
     "data": {
      "text/plain": [
       "'http://wikipast.epfl.ch/w/index.php?title=Banane&action=edit&redlink=1'"
      ]
     },
     "execution_count": 17,
     "metadata": {},
     "output_type": "execute_result"
    }
   ],
   "source": []
  },
  {
   "cell_type": "code",
   "execution_count": 33,
   "id": "6836cd8c",
   "metadata": {},
   "outputs": [],
   "source": [
    "def create_site(MostWantedTerm):\n",
    "      \n",
    "    user = \"YGrebici@MostWantedBot\"\n",
    "    passw = \"rebp70qighbgk55lpoi47b8fnesf3au3\"\n",
    "    baseurl='http://wikipast.epfl.ch/wikipast/'\n",
    "    summary='MostWantedBot page creation'\n",
    "    MostWantedTerm = banane\n",
    "\n",
    "    #check if page already exists\n",
    "    if(requests.get('http://wikipast.epfl.ch/wikipast/index.php/'+MostWantedTerm)).status_code!=404:\n",
    "        \n",
    "        return\n",
    "\n",
    "    # Login request\n",
    "    payload={'action':'query','format':'json','utf8':'','meta':'tokens','type':'login'}\n",
    "    r1=requests.post(baseurl + 'api.php', data=payload)\n",
    "    \n",
    "    r1.json()\n"
   ]
  },
  {
   "cell_type": "code",
   "execution_count": 51,
   "id": "b85b7ea0",
   "metadata": {},
   "outputs": [
    {
     "data": {
      "text/plain": [
       "{'edit': {'result': 'Success',\n",
       "  'pageid': 1674411,\n",
       "  'title': 'Banane',\n",
       "  'contentmodel': 'wikitext',\n",
       "  'nochange': ''}}"
      ]
     },
     "execution_count": 51,
     "metadata": {},
     "output_type": "execute_result"
    }
   ],
   "source": [
    "#CEST CETTE PARTIE QUI CREE DES PAGES\n",
    "\n",
    "import requests\n",
    "\n",
    "\n",
    "user = \"YGrebici@MostWantedBot\"\n",
    "passw = \"rebp70qighbgk55lpoi47b8fnesf3au3\"\n",
    "baseurl='http://wikipast.epfl.ch/wikipast/'\n",
    "summary='MostWantedBot page creation'\n",
    "MostWantedTerm = 'banane'\n",
    "\n",
    "baseurl='http://wikipast.epfl.ch/wikipast/'\n",
    "baseurl + 'api.php'\n",
    "\n",
    "  # Login request\n",
    "payload={'action':'query','format':'json','utf8':'','meta':'tokens','type':'login'}\n",
    "r1=requests.post(baseurl + 'api.php', data=payload)\n",
    "\n",
    "#login confirm\n",
    "login_token=r1.json()['query']['tokens']['logintoken']\n",
    "payload={'action':'login','format':'json','utf8':'','lgname':user,'lgpassword':passw,'lgtoken':login_token}\n",
    "r2=requests.post(baseurl + 'api.php', data=payload, cookies=r1.cookies)\n",
    "\n",
    "#get edit token2  comme si on appuyait sur le bouton modifier? \n",
    "# le csrf token est un jeton de confirmation de sécurité \n",
    "params3='?format=json&action=query&meta=tokens&continue='\n",
    "r3=requests.get(baseurl + 'api.php' + params3, cookies=r2.cookies)\n",
    "edit_token=r3.json()['query']['tokens']['csrftoken']\n",
    "\n",
    "edit_cookie=r2.cookies.copy()\n",
    "edit_cookie.update(r3.cookies)\n",
    "\n",
    "#contenu de la page (vide)\n",
    "content=\"\"  \n",
    "\n",
    "# save action (modif de la page avec l'action edit)\n",
    "payload={'action':'edit','assert':'user','format':'json','utf8':'','text':content,'summary':summary,'title':MostWantedTerm,'token':edit_token}\n",
    "r4=requests.post(baseurl+'api.php',data=payload,cookies=edit_cookie)\n",
    "\n",
    "#payload semble etre une fonction qui va créer un url avec des commandes: ici fonction principale est edit, puis on y ajoute les arguments\n",
    "\n",
    "r4.json()\n",
    "\n",
    "#dans le r4 (requete 4 je pense), mis sous format json, on a le result:succes donc page MostWantedTerm bien créée"
   ]
  },
  {
   "cell_type": "code",
   "execution_count": 31,
   "id": "1f1a7b0a",
   "metadata": {},
   "outputs": [
    {
     "data": {
      "text/plain": [
       "{'action': 'query',\n",
       " 'format': 'json',\n",
       " 'utf8': '',\n",
       " 'meta': 'tokens',\n",
       " 'type': 'login'}"
      ]
     },
     "execution_count": 31,
     "metadata": {},
     "output_type": "execute_result"
    }
   ],
   "source": [
    "payload={'action':'query','format':'json','utf8':'','meta':'tokens','type':'login'}\n",
    "payload"
   ]
  },
  {
   "cell_type": "code",
   "execution_count": null,
   "id": "8bae6fce",
   "metadata": {},
   "outputs": [],
   "source": []
  }
 ],
 "metadata": {
  "kernelspec": {
   "display_name": "Python 3",
   "language": "python",
   "name": "python3"
  },
  "language_info": {
   "codemirror_mode": {
    "name": "ipython",
    "version": 3
   },
   "file_extension": ".py",
   "mimetype": "text/x-python",
   "name": "python",
   "nbconvert_exporter": "python",
   "pygments_lexer": "ipython3",
   "version": "3.9.5"
  }
 },
 "nbformat": 4,
 "nbformat_minor": 5
}
