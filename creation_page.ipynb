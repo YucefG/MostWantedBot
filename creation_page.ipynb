{
 "cells": [
  {
   "cell_type": "code",
   "execution_count": 70,
   "metadata": {},
   "outputs": [],
   "source": [
    "from pywikiapi import Site"
   ]
  },
  {
   "cell_type": "code",
   "execution_count": 7,
   "metadata": {},
   "outputs": [
    {
     "name": "stdout",
     "output_type": "stream",
     "text": [
      "Jai crée la page\n"
     ]
    }
   ],
   "source": [
    "#CEST CETTE PARTIE QUI CREE DES PAGES\n",
    "\n",
    "import requests\n",
    "\n",
    "user = \"YGrebici@MostWantedBot\"\n",
    "passw = \"rebp70qighbgk55lpoi47b8fnesf3au3\"\n",
    "baseurl='http://wikipast.epfl.ch/wikipast/'\n",
    "summary='MostWantedBot page creation'\n",
    "MostWantedTerm = 'Oyé peuple'\n",
    "\n",
    "baseurl='http://wikipast.epfl.ch/wikipast/'\n",
    "baseurl + 'api.php'\n",
    "\n",
    "from pywikiapi import Site\n",
    "site = Site('http://wikipast.epfl.ch/wikipast/api.php') # Définition de l'adresse de l'API\n",
    "site.no_ssl = True # Désactivation du https, car non activé sur wikipast\n",
    "site.login(user, passw) # Login du bot\n",
    "\n",
    "results = []\n",
    "# Cherche dans toutes les pages celles commençant par Mahatma\n",
    "for res in site.query(list='allpages', apprefix=MostWantedTerm): \n",
    "    results.append(res)\n",
    "\n",
    "#check if page already exists\n",
    "if len(results[0]['allpages']) == 1:\n",
    "     print('Page déjà existante')\n",
    "\n",
    "else:\n",
    "  # Login request\n",
    "    \n",
    "    payload={'action':'query','format':'json','utf8':'','meta':'tokens','type':'login'}\n",
    "    r1=requests.post(baseurl + 'api.php', data=payload)\n",
    "\n",
    "    #login confirm\n",
    "    login_token=r1.json()['query']['tokens']['logintoken']\n",
    "    payload={'action':'login','format':'json','utf8':'','lgname':user,'lgpassword':passw,'lgtoken':login_token}\n",
    "    r2=requests.post(baseurl + 'api.php', data=payload, cookies=r1.cookies)\n",
    "\n",
    "    #get edit token2  comme si on appuyait sur le bouton modifier? \n",
    "    # le csrf token est un jeton de confirmation de sécurité \n",
    "    params3='?format=json&action=query&meta=tokens&continue='\n",
    "    r3=requests.get(baseurl + 'api.php' + params3, cookies=r2.cookies)\n",
    "    edit_token=r3.json()['query']['tokens']['csrftoken']\n",
    "\n",
    "    edit_cookie=r2.cookies.copy()\n",
    "    edit_cookie.update(r3.cookies)\n",
    "\n",
    "    #contenu de la page (vide)\n",
    "    content=\"\"  \n",
    "\n",
    "    # save action (modif de la page avec l'action edit)\n",
    "    payload={'action':'edit','assert':'user','format':'json','utf8':'','text':content,'summary':summary,'title':MostWantedTerm,'token':edit_token}\n",
    "    r4=requests.post(baseurl+'api.php',data=payload,cookies=edit_cookie)\n",
    "\n",
    "    #payload semble etre une fonction qui va créer un url avec des commandes: ici fonction principale est edit, puis on y ajoute les arguments\n",
    "\n",
    "    r4.json()\n",
    "    \n",
    "    print('Jai crée la page')\n",
    "\n",
    "    #dans le r4 (requete 4 je pense), mis sous format json, on a le result:succes donc page MostWantedTerm bien créée"
   ]
  },
  {
   "cell_type": "code",
<<<<<<< Updated upstream
   "execution_count": null,
   "id": "8cc8e6e1",
=======
   "execution_count": 76,
>>>>>>> Stashed changes
   "metadata": {},
   "outputs": [
    {
     "data": {
      "text/plain": [
       "1"
      ]
     },
     "execution_count": 76,
     "metadata": {},
     "output_type": "execute_result"
    }
   ],
   "source": [
    "#Cest mes tests ca\n",
    "user = 'YGrebici@MostWantedBot'\n",
    "password = 'rebp70qighbgk55lpoi47b8fnesf3au3'\n",
    "from pywikiapi import Site\n",
    "site = Site('http://wikipast.epfl.ch/wikipast/api.php') # Définition de l'adresse de l'API\n",
    "site.no_ssl = True # Désactivation du https, car non activé sur wikipast\n",
    "site.login(user, password) # Login du bot\n",
    "\n",
    "results = []\n",
    "# Cherche dans toutes les pages celles commençant par Mahatma\n",
    "for res in site.query(list='allpages', apprefix='Marcel Jufer'): \n",
    "    results.append(res)\n",
    "\n",
    "if (results[0]['allpages']) != '[]':\n",
    "     print('je suis dans le if')\n",
    "\n",
    "results[0]['allpages']\n",
    "len(results[0]['allpages'])"
   ]
  },
  {
   "cell_type": "code",
   "execution_count": 38,
   "metadata": {},
   "outputs": [
    {
     "data": {
      "text/plain": [
       "\"\\nPour Arthur:\\nPour comprendre toute cette merde: \\nil faut d'abord login notre bot; pour login (regarde http://wikipast.epfl.ch/wikipast/api.php) et cherche login et clique\\ntu dois y avoir 3 parametres (mdp, username et Igtoken), ce token tu le recup en suivant le lien bleu a coté.\\nEnfait c'est la premiere etape login request qui va chercher ce token de login\\npuis 2e etape login confirm utilise les 3 parametres dispo pour se connecter\\nPuis maintenant pour créer la page et modifier il nous faut un token special, le csrf token, qui, si tu appuyes mnt sur le lien edit dans \\nles modules api (tout en bas tu retrouves la partie token qui explique comment avoir ce csrf token), \\ns'obtient selon les operations de la requete 3 (variable r3).\\nPuis dans la requete r4 tu vas faire action=edit et entrer ensuite tous les arguments cités dans sa documentation:\\ntitre, texte(content), ... et les tokens\\n\\nPAR CONTRE j'ai pas compris le role des cookies \\n\\n\\nVoir pourquoi le if ne fonctionne pas: a priori le site envoie un status_code = 200 qui veut dire (internet) que la requete\\na été traitée avec succès: chercher autre solution\\npeut etre faire un opensearch: genre rSearch (requete de search) = requests.post(URL; data=payload) \\noù payload = {'action':'openSearch', autres arguments que tu peux trouver dans la docu API/opensearch normelement}\\net ensuite faire un rSearch.json() pour analyser l'interieur du fichier json et chercher une valeur qui change s'il ne trouve juste rien.\\n\\nEnsuite c'est vrai qu'on utilise pas les fonctions plus simples de l'exemple: voir s'il existe + simple? au pire osef on demandera demain\\n\\n}\\n\""
      ]
     },
     "execution_count": 38,
     "metadata": {},
     "output_type": "execute_result"
    }
   ],
   "source": [
    "\"\"\"\n",
    "Pour Arthur:\n",
    "Voir pourquoi le if ne fonctionne pas: a priori le site envoie un status_code = 200 qui veut dire (internet) que la requete\n",
    "a été traitée avec succès: chercher autre solution\n",
    "peut etre faire un opensearch: genre rSearch (requete de search) = requests.post(URL; data=payload) \n",
    "où payload = {'action':'openSearch', autres arguments que tu peux trouver dans la docu API/opensearch normelement}\n",
    "et ensuite faire un rSearch.json() pour analyser l'interieur du fichier json et chercher une valeur qui change s'il ne trouve juste rien.\n",
    "\n",
    "Ensuite c'est vrai qu'on utilise pas les fonctions plus simples de l'exemple: voir s'il existe + simple? au pire osef on demandera demain\n",
    "\n",
    "}\n",
    "\"\"\""
   ]
  },
  {
   "cell_type": "code",
   "execution_count": null,
   "metadata": {},
   "outputs": [],
   "source": []
  }
 ],
 "metadata": {
  "kernelspec": {
   "display_name": "Python 3",
   "language": "python",
   "name": "python3"
  },
  "language_info": {
   "codemirror_mode": {
    "name": "ipython",
    "version": 3
   },
   "file_extension": ".py",
   "mimetype": "text/x-python",
   "name": "python",
   "nbconvert_exporter": "python",
   "pygments_lexer": "ipython3",
   "version": "3.8.5"
  }
 },
 "nbformat": 4,
 "nbformat_minor": 5
}
