{
 "cells": [
  {
   "cell_type": "code",
   "execution_count": 70,
   "id": "58124356",
   "metadata": {},
   "outputs": [],
   "source": [
    "from pywikiapi import Site"
   ]
  },
  {
   "cell_type": "code",
   "execution_count": 72,
   "id": "b85b7ea0",
   "metadata": {},
   "outputs": [
    {
     "name": "stdout",
     "output_type": "stream",
     "text": [
      "je suis dans le if\n"
     ]
    },
    {
     "data": {
      "text/plain": [
       "200"
      ]
     },
     "execution_count": 72,
     "metadata": {},
     "output_type": "execute_result"
    }
   ],
   "source": [
    "#CEST CETTE PARTIE QUI CREE DES PAGES\n",
    "\n",
    "import requests\n",
    "\n",
    "def c\n",
    "user = \"YGrebici@MostWantedBot\"\n",
    "passw = \"rebp70qighbgk55lpoi47b8fnesf3au3\"\n",
    "baseurl='http://wikipast.epfl.ch/wikipast/'\n",
    "summary='MostWantedBot page creation'\n",
    "MostWantedTerm = 'Cadeau'\n",
    "\n",
    "baseurl='http://wikipast.epfl.ch/wikipast/'\n",
    "baseurl + 'api.php'\n",
    "\n",
    "#check if page already exists  si diff de 404 donc page existante\n",
    "if(requests.get('http://wikipast.epfl.ch/wikipast/index.php/'+MostWantedTerm)).status_code!=404:\n",
    "    print('je suis dans le if')\n",
    "    #return si c'est dans une fonctio\n",
    "\n",
    "else:\n",
    "  # Login request\n",
    "    payload={'action':'query','format':'json','utf8':'','meta':'tokens','type':'login'}\n",
    "    r1=requests.post(baseurl + 'api.php', data=payload)\n",
    "\n",
    "    #login confirm\n",
    "    login_token=r1.json()['query']['tokens']['logintoken']\n",
    "    payload={'action':'login','format':'json','utf8':'','lgname':user,'lgpassword':passw,'lgtoken':login_token}\n",
    "    r2=requests.post(baseurl + 'api.php', data=payload, cookies=r1.cookies)\n",
    "\n",
    "    #get edit token2  comme si on appuyait sur le bouton modifier? \n",
    "    # le csrf token est un jeton de confirmation de sécurité \n",
    "    params3='?format=json&action=query&meta=tokens&continue='\n",
    "    r3=requests.get(baseurl + 'api.php' + params3, cookies=r2.cookies)\n",
    "    edit_token=r3.json()['query']['tokens']['csrftoken']\n",
    "\n",
    "    edit_cookie=r2.cookies.copy()\n",
    "    edit_cookie.update(r3.cookies)\n",
    "\n",
    "    #contenu de la page (vide)\n",
    "    content=\"\"  \n",
    "\n",
    "    # save action (modif de la page avec l'action edit)\n",
    "    payload={'action':'edit','assert':'user','format':'json','utf8':'','text':content,'summary':summary,'title':MostWantedTerm,'token':edit_token}\n",
    "    r4=requests.post(baseurl+'api.php',data=payload,cookies=edit_cookie)\n",
    "\n",
    "    #payload semble etre une fonction qui va créer un url avec des commandes: ici fonction principale est edit, puis on y ajoute les arguments\n",
    "\n",
    "    r4.json()\n",
    "\n",
    "    #dans le r4 (requete 4 je pense), mis sous format json, on a le result:succes donc page MostWantedTerm bien créée\n",
    "    \n",
    "'http://wikipast.epfl.ch/wikipast/index.php/'+MostWantedTerm\n",
    "\n",
    "requests.get('http://wikipast.epfl.ch/wikipast/index.php/'+MostWantedTerm).status_code"
   ]
  },
  {
   "cell_type": "code",
   "execution_count": null,
   "id": "8cc8e6e1",
   "metadata": {},
   "outputs": [],
   "source": [
    "\"\"\"\n",
    "Pour Arthur:\n",
    "Voir pourquoi le if ne fonctionne pas: a priori le site envoie un status_code = 200 qui veut dire (internet) que la requete\n",
    "a été traitée avec succès: chercher autre solution\n",
    "peut etre faire un opensearch: genre rSearch (requete de search) = requests.post(URL; data=payload) \n",
    "où payload = {'action':'openSearch', autres arguments que tu peux trouver dans la docu API/opensearch normelement}\n",
    "et ensuite faire un rSearch.json() pour analyser l'interieur du fichier json et chercher une valeur qui change s'il ne trouve juste rien.\n",
    "\n",
    "Ensuite c'est vrai qu'on utilise pas les fonctions plus simples de l'exemple: voir s'il existe + simple? au pire osef on demandera demain\n",
    "\n",
    "}\n",
    "\"\"\""
   ]
  }
 ],
 "metadata": {
  "kernelspec": {
   "display_name": "Python 3",
   "language": "python",
   "name": "python3"
  },
  "language_info": {
   "codemirror_mode": {
    "name": "ipython",
    "version": 3
   },
   "file_extension": ".py",
   "mimetype": "text/x-python",
   "name": "python",
   "nbconvert_exporter": "python",
   "pygments_lexer": "ipython3",
   "version": "3.8.8"
  }
 },
 "nbformat": 4,
 "nbformat_minor": 5
}
