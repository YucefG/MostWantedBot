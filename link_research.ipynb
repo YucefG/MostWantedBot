{
 "cells": [
  {
   "cell_type": "code",
   "execution_count": 1,
   "metadata": {},
   "outputs": [],
   "source": [
    "from bs4 import BeautifulSoup\n",
    "import  requests"
   ]
  },
  {
   "cell_type": "code",
   "execution_count": null,
   "metadata": {},
   "outputs": [],
   "source": [
    "#   entrée: nom d'article dans la liste des MostWanted\n",
    "#   sortie: Tableau de phrases (string) à directement implémenter dans content\n",
    "def recup_links(MostWantedTerm):\n",
    "    \n",
    "    # 1)Transforme le nom en string mettable dans une URL\n",
    "\n",
    "    terme_URL = MostWantedTerm.replace(\" \", '_')\n",
    "    terme_URL = terme_URL.replace(\"'\", '%27')\n",
    "\n",
    "    # 2) On s'aide du début d'URL pour accéder aux links\n",
    "    Pre_URL = 'https://en.wikipedia.org/wiki/Special:WhatLinksHere/'\n",
    "    r2 = requests.get(Pre_URL + terme_URL)\n",
    "\n",
    "    # 3) On récupère tous les flags <a> des links du MostWantedTerm\n",
    "    soup2 = BeautifulSoup(r2.content, \"html5lib\")\n",
    "    partie_links = soup2.find('ul', id=\"mw-whatlinkshere-list\")\n",
    "    partie_links_list = partie_links.find_all('a')\n",
    "\n",
    "    # 4) On crée le tableau content, avec comme sources le besoin du pré-URL de wiki\n",
    "    wiki_URL = 'https://en.wikipedia.org/wiki/'\n",
    "\n",
    "    # on remparque que pour un title, on a 3 elements dont 2 indésirables du type:\n",
    "    #       Brennan Newberry\n",
    "    #       Special:WhatLinksHere\n",
    "    #       Brennan Newberry\n",
    "    # on garde donc le premier, on enleve les deux autres dans les ifs prochains:\n",
    "    # methode : on fait des sauts de 3 indices par title\n",
    "    # et on commence a la 3e indice car le premier lien linked est toujours un most:wanted truc\n",
    "\n",
    "    content_tab = [''] * (int)((len(partie_links_list) / 3))\n",
    "\n",
    "    for i in range(len(partie_links_list)):\n",
    "        if ((partie_links_list[i]['title'].find(':')) == (-1)):\n",
    "            if (i % 3 == 0):  # on prend un indice sur 3\n",
    "                terme_link_URL = partie_links_list[i]['title'].replace(\" \", '_').replace(\"'\", '%27')\n",
    "                content_tab[((int)(i / 3))] = '*Mention de [[' + MostWantedTerm + ']] dans [[' + partie_links_list[i][\n",
    "                    'title'] + ']].[' + wiki_URL + terme_link_URL + ']\\n'\n",
    "        \n",
    "    # TAILLE DU TABLEAU\n",
    "    len(content_tab)\n",
    "    \n",
    "    return content_tab"
   ]
  }
 ],
 "metadata": {
  "kernelspec": {
   "display_name": "Python 3",
   "language": "python",
   "name": "python3"
  },
  "language_info": {
   "codemirror_mode": {
    "name": "ipython",
    "version": 3
   },
   "file_extension": ".py",
   "mimetype": "text/x-python",
   "name": "python",
   "nbconvert_exporter": "python",
   "pygments_lexer": "ipython3",
   "version": "3.8.5"
  }
 },
 "nbformat": 4,
 "nbformat_minor": 4
}
